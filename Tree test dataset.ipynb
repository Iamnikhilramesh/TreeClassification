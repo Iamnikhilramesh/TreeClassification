{
 "cells": [
  {
   "cell_type": "markdown",
   "metadata": {},
   "source": [
    "# Data Prepration\n",
    "## Contents\n",
    "1. Import Data\n",
    "2. Resize and Transform into array\n",
    "3. Randomize data and Split into x(input data) and y(Class)\n",
    "4. Store in pickle for reuse"
   ]
  },
  {
   "cell_type": "code",
   "execution_count": 10,
   "metadata": {},
   "outputs": [],
   "source": [
    "#Importing the necessary lib\n",
    "import numpy as np\n",
    "import os\n",
    "import pickle\n",
    "import matplotlib.pyplot as plt\n",
    "import cv2\n",
    "import random"
   ]
  },
  {
   "cell_type": "markdown",
   "metadata": {},
   "source": [
    "## Import Data"
   ]
  },
  {
   "cell_type": "markdown",
   "metadata": {},
   "source": [
    "### Dataset can be Downloaded from the link https://github.com/Iamnikhilramesh/TreeClassification"
   ]
  },
  {
   "cell_type": "code",
   "execution_count": 11,
   "metadata": {},
   "outputs": [],
   "source": [
    "#Defining the data path and categories\n",
    "path = '/Users/nikhilr/Python/Machine Learning/ML Project/project tree/tree/tree_test'\n",
    "categories = ['tree1','tree2']"
   ]
  },
  {
   "cell_type": "markdown",
   "metadata": {},
   "source": [
    "## Resize and Transform into array"
   ]
  },
  {
   "cell_type": "code",
   "execution_count": 12,
   "metadata": {},
   "outputs": [],
   "source": [
    "# defined image resize value \n",
    "size = 90\n",
    "#transforming data into an array\n",
    "transform_data = []\n",
    "for category in categories:\n",
    "    path_1 = os.path.join(path,category)\n",
    "    class_index = categories.index(category)\n",
    "    for img in os.listdir(path_1):\n",
    "        try:\n",
    "            img_array = cv2.imread(os.path.join(path_1,img),cv2.IMREAD_GRAYSCALE)\n",
    "            img_resize = cv2.resize(img_array,(size,size))\n",
    "            transform_data.append([img_resize,class_index])\n",
    "        except:\n",
    "            pass"
   ]
  },
  {
   "cell_type": "markdown",
   "metadata": {},
   "source": [
    "## Randomize data and Split into x(input data) and y(Class)"
   ]
  },
  {
   "cell_type": "code",
   "execution_count": 13,
   "metadata": {},
   "outputs": [],
   "source": [
    "#suffling the data\n",
    "random.shuffle(transform_data)"
   ]
  },
  {
   "cell_type": "code",
   "execution_count": 14,
   "metadata": {},
   "outputs": [],
   "source": [
    "#splitting the data into featues and prediction column\n",
    "x = []\n",
    "y = []\n",
    "for features,category in transform_data:\n",
    "    x.append(features)\n",
    "    y.append(category)"
   ]
  },
  {
   "cell_type": "code",
   "execution_count": 15,
   "metadata": {},
   "outputs": [],
   "source": [
    "#converting x array into numpy array\n",
    "x = np.array(x).reshape(-1,size,size,1)"
   ]
  },
  {
   "cell_type": "markdown",
   "metadata": {},
   "source": [
    "## Store in pickle for reuse"
   ]
  },
  {
   "cell_type": "code",
   "execution_count": 16,
   "metadata": {},
   "outputs": [],
   "source": [
    "#document x data \n",
    "pickle_out = open('x_test.pickle',\"wb\")\n",
    "pickle.dump(x,pickle_out)\n",
    "pickle_out.close()"
   ]
  },
  {
   "cell_type": "code",
   "execution_count": 17,
   "metadata": {},
   "outputs": [],
   "source": [
    "#document y data \n",
    "pickle_out = open('y_test.pickle',\"wb\")\n",
    "pickle.dump(y,pickle_out)\n",
    "pickle_out.close()"
   ]
  },
  {
   "cell_type": "code",
   "execution_count": 19,
   "metadata": {},
   "outputs": [],
   "source": [
    "#bring data from a pickle document\n",
    "pickle_in = open(\"x_test.pickle\",\"rb\")\n",
    "x_test = pickle.load(pickle_in)"
   ]
  },
  {
   "cell_type": "code",
   "execution_count": 20,
   "metadata": {},
   "outputs": [
    {
     "data": {
      "text/plain": [
       "array([[[[241],\n",
       "         [241],\n",
       "         [240],\n",
       "         ...,\n",
       "         [240],\n",
       "         [240],\n",
       "         [241]],\n",
       "\n",
       "        [[240],\n",
       "         [240],\n",
       "         [240],\n",
       "         ...,\n",
       "         [239],\n",
       "         [241],\n",
       "         [240]],\n",
       "\n",
       "        [[241],\n",
       "         [239],\n",
       "         [241],\n",
       "         ...,\n",
       "         [239],\n",
       "         [237],\n",
       "         [238]],\n",
       "\n",
       "        ...,\n",
       "\n",
       "        [[ 70],\n",
       "         [ 74],\n",
       "         [ 87],\n",
       "         ...,\n",
       "         [137],\n",
       "         [128],\n",
       "         [ 93]],\n",
       "\n",
       "        [[115],\n",
       "         [157],\n",
       "         [112],\n",
       "         ...,\n",
       "         [151],\n",
       "         [150],\n",
       "         [174]],\n",
       "\n",
       "        [[ 79],\n",
       "         [115],\n",
       "         [123],\n",
       "         ...,\n",
       "         [124],\n",
       "         [151],\n",
       "         [103]]],\n",
       "\n",
       "\n",
       "       [[[227],\n",
       "         [229],\n",
       "         [230],\n",
       "         ...,\n",
       "         [229],\n",
       "         [229],\n",
       "         [231]],\n",
       "\n",
       "        [[229],\n",
       "         [231],\n",
       "         [232],\n",
       "         ...,\n",
       "         [231],\n",
       "         [230],\n",
       "         [230]],\n",
       "\n",
       "        [[231],\n",
       "         [231],\n",
       "         [232],\n",
       "         ...,\n",
       "         [231],\n",
       "         [230],\n",
       "         [229]],\n",
       "\n",
       "        ...,\n",
       "\n",
       "        [[ 52],\n",
       "         [ 57],\n",
       "         [ 89],\n",
       "         ...,\n",
       "         [156],\n",
       "         [129],\n",
       "         [150]],\n",
       "\n",
       "        [[ 60],\n",
       "         [ 47],\n",
       "         [103],\n",
       "         ...,\n",
       "         [121],\n",
       "         [152],\n",
       "         [153]],\n",
       "\n",
       "        [[134],\n",
       "         [ 58],\n",
       "         [ 90],\n",
       "         ...,\n",
       "         [112],\n",
       "         [ 41],\n",
       "         [183]]],\n",
       "\n",
       "\n",
       "       [[[199],\n",
       "         [201],\n",
       "         [200],\n",
       "         ...,\n",
       "         [194],\n",
       "         [ 27],\n",
       "         [ 75]],\n",
       "\n",
       "        [[204],\n",
       "         [205],\n",
       "         [204],\n",
       "         ...,\n",
       "         [114],\n",
       "         [120],\n",
       "         [178]],\n",
       "\n",
       "        [[205],\n",
       "         [207],\n",
       "         [206],\n",
       "         ...,\n",
       "         [ 22],\n",
       "         [  4],\n",
       "         [ 63]],\n",
       "\n",
       "        ...,\n",
       "\n",
       "        [[110],\n",
       "         [166],\n",
       "         [141],\n",
       "         ...,\n",
       "         [151],\n",
       "         [109],\n",
       "         [113]],\n",
       "\n",
       "        [[118],\n",
       "         [131],\n",
       "         [109],\n",
       "         ...,\n",
       "         [ 98],\n",
       "         [101],\n",
       "         [ 89]],\n",
       "\n",
       "        [[156],\n",
       "         [154],\n",
       "         [138],\n",
       "         ...,\n",
       "         [ 85],\n",
       "         [121],\n",
       "         [160]]],\n",
       "\n",
       "\n",
       "       [[[204],\n",
       "         [207],\n",
       "         [205],\n",
       "         ...,\n",
       "         [212],\n",
       "         [211],\n",
       "         [207]],\n",
       "\n",
       "        [[204],\n",
       "         [207],\n",
       "         [208],\n",
       "         ...,\n",
       "         [209],\n",
       "         [204],\n",
       "         [203]],\n",
       "\n",
       "        [[210],\n",
       "         [208],\n",
       "         [211],\n",
       "         ...,\n",
       "         [207],\n",
       "         [205],\n",
       "         [203]],\n",
       "\n",
       "        ...,\n",
       "\n",
       "        [[125],\n",
       "         [145],\n",
       "         [141],\n",
       "         ...,\n",
       "         [120],\n",
       "         [102],\n",
       "         [ 95]],\n",
       "\n",
       "        [[ 90],\n",
       "         [ 96],\n",
       "         [108],\n",
       "         ...,\n",
       "         [ 91],\n",
       "         [ 80],\n",
       "         [ 96]],\n",
       "\n",
       "        [[109],\n",
       "         [107],\n",
       "         [116],\n",
       "         ...,\n",
       "         [106],\n",
       "         [ 70],\n",
       "         [ 80]]]], dtype=uint8)"
      ]
     },
     "execution_count": 20,
     "metadata": {},
     "output_type": "execute_result"
    }
   ],
   "source": [
    "x_test"
   ]
  },
  {
   "cell_type": "code",
   "execution_count": null,
   "metadata": {},
   "outputs": [],
   "source": []
  }
 ],
 "metadata": {
  "kernelspec": {
   "display_name": "Python 3",
   "language": "python",
   "name": "python3"
  },
  "language_info": {
   "codemirror_mode": {
    "name": "ipython",
    "version": 3
   },
   "file_extension": ".py",
   "mimetype": "text/x-python",
   "name": "python",
   "nbconvert_exporter": "python",
   "pygments_lexer": "ipython3",
   "version": "3.6.4"
  }
 },
 "nbformat": 4,
 "nbformat_minor": 2
}
