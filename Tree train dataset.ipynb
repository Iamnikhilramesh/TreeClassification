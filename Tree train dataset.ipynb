{
 "cells": [
  {
   "cell_type": "markdown",
   "metadata": {},
   "source": [
    "# Data Prepration\n",
    "## Contents\n",
    "1. Import Data\n",
    "2. Resize and Transform into array\n",
    "3. Randomize data and Split into x(input data) and y(Class)\n",
    "4. Store in pickle for reuse"
   ]
  },
  {
   "cell_type": "code",
   "execution_count": 50,
   "metadata": {},
   "outputs": [],
   "source": [
    "#Importing the necessary lib\n",
    "import numpy as np\n",
    "import os\n",
    "import pickle\n",
    "import matplotlib.pyplot as plt\n",
    "import cv2\n",
    "import random"
   ]
  },
  {
   "cell_type": "markdown",
   "metadata": {},
   "source": [
    "## Import Data"
   ]
  },
  {
   "cell_type": "markdown",
   "metadata": {},
   "source": [
    "### Dataset can be Downloaded from the link https://github.com/Iamnikhilramesh/TreeClassification"
   ]
  },
  {
   "cell_type": "code",
   "execution_count": 51,
   "metadata": {},
   "outputs": [],
   "source": [
    "#Defining the data path and categories\n",
    "path = '/Users/nikhilr/Python/Machine Learning/ML Project/project tree/tree'\n",
    "categories = ['tree1','tree2']"
   ]
  },
  {
   "cell_type": "markdown",
   "metadata": {},
   "source": [
    "## Resize and Transform into array"
   ]
  },
  {
   "cell_type": "code",
   "execution_count": 52,
   "metadata": {},
   "outputs": [],
   "source": [
    "# defined image resize value \n",
    "size = 90\n",
    "#transforming data into an array\n",
    "transform_data = []\n",
    "for category in categories:\n",
    "    path_1 = os.path.join(path,category)\n",
    "    class_index = categories.index(category)\n",
    "    for img in os.listdir(path_1):\n",
    "        try:\n",
    "            img_array = cv2.imread(os.path.join(path_1,img),cv2.IMREAD_GRAYSCALE)\n",
    "            img_resize = cv2.resize(img_array,(size,size))\n",
    "            transform_data.append([img_resize,class_index])\n",
    "        except:\n",
    "            pass"
   ]
  },
  {
   "cell_type": "markdown",
   "metadata": {},
   "source": [
    "## Randomize data and Split into x(input data) and y(Class)"
   ]
  },
  {
   "cell_type": "code",
   "execution_count": 53,
   "metadata": {},
   "outputs": [],
   "source": [
    "#suffling the data\n",
    "random.shuffle(transform_data)"
   ]
  },
  {
   "cell_type": "code",
   "execution_count": 54,
   "metadata": {},
   "outputs": [],
   "source": [
    "#splitting the data into featues and prediction column\n",
    "x = []\n",
    "y = []\n",
    "for features,category in transform_data:\n",
    "    x.append(features)\n",
    "    y.append(category)"
   ]
  },
  {
   "cell_type": "code",
   "execution_count": 55,
   "metadata": {},
   "outputs": [],
   "source": [
    "#converting x array into numpy array\n",
    "x = np.array(x).reshape(-1,size,size,1)"
   ]
  },
  {
   "cell_type": "markdown",
   "metadata": {},
   "source": [
    "## Store in pickle for reuse"
   ]
  },
  {
   "cell_type": "code",
   "execution_count": 56,
   "metadata": {},
   "outputs": [],
   "source": [
    "#document x data \n",
    "pickle_out = open('x.pickle',\"wb\")\n",
    "pickle.dump(x,pickle_out)\n",
    "pickle_out.close()"
   ]
  },
  {
   "cell_type": "code",
   "execution_count": 57,
   "metadata": {},
   "outputs": [],
   "source": [
    "#document y data \n",
    "pickle_out = open('y.pickle',\"wb\")\n",
    "pickle.dump(y,pickle_out)\n",
    "pickle_out.close()"
   ]
  },
  {
   "cell_type": "code",
   "execution_count": 58,
   "metadata": {},
   "outputs": [],
   "source": [
    "#bring data from a pickle document\n",
    "pickle_in = open(\"x.pickle\",\"rb\")\n",
    "x = pickle.load(pickle_in)"
   ]
  }
 ],
 "metadata": {
  "kernelspec": {
   "display_name": "Python 3",
   "language": "python",
   "name": "python3"
  },
  "language_info": {
   "codemirror_mode": {
    "name": "ipython",
    "version": 3
   },
   "file_extension": ".py",
   "mimetype": "text/x-python",
   "name": "python",
   "nbconvert_exporter": "python",
   "pygments_lexer": "ipython3",
   "version": "3.6.4"
  }
 },
 "nbformat": 4,
 "nbformat_minor": 2
}
