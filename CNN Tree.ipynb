{
 "cells": [
  {
   "cell_type": "markdown",
   "metadata": {},
   "source": [
    "# Contents\n",
    "\n",
    "1. Import Data \n",
    "2. Normalize Data\n",
    "3. Create Sequential Model\n",
    "4. Training Model\n",
    "5. Testing Model"
   ]
  },
  {
   "cell_type": "code",
   "execution_count": 21,
   "metadata": {},
   "outputs": [],
   "source": [
    "#import lib\n",
    "import tensorflow as tf\n",
    "import numpy as np\n",
    "from tensorflow.keras.models import Sequential as s\n",
    "from tensorflow.keras.layers import Dense,Dropout, Activation,Flatten,Conv2D,MaxPooling2D\n",
    "import pickle"
   ]
  },
  {
   "cell_type": "markdown",
   "metadata": {},
   "source": [
    "# Import data "
   ]
  },
  {
   "cell_type": "markdown",
   "metadata": {},
   "source": [
    "### train data"
   ]
  },
  {
   "cell_type": "code",
   "execution_count": 22,
   "metadata": {},
   "outputs": [],
   "source": [
    "#import train data\n",
    "pickle_in = open(\"X.pickle\",\"rb\")\n",
    "X = pickle.load(pickle_in)\n",
    "\n",
    "pickle_in = open(\"y.pickle\",\"rb\")\n",
    "y = pickle.load(pickle_in)"
   ]
  },
  {
   "cell_type": "markdown",
   "metadata": {},
   "source": [
    "### test data"
   ]
  },
  {
   "cell_type": "code",
   "execution_count": 35,
   "metadata": {},
   "outputs": [],
   "source": [
    "#import test data\n",
    "pickle_in = open(\"X_test.pickle\",\"rb\")\n",
    "X_test = pickle.load(pickle_in)\n",
    "\n",
    "pickle_in = open(\"y_test.pickle\",\"rb\")\n",
    "y_test = pickle.load(pickle_in)\n",
    "\n",
    "# Normalize test data\n",
    "x_test = X_test/255.0"
   ]
  },
  {
   "cell_type": "markdown",
   "metadata": {},
   "source": [
    "# Normalize Data"
   ]
  },
  {
   "cell_type": "code",
   "execution_count": 23,
   "metadata": {},
   "outputs": [],
   "source": [
    "#normalize\n",
    "X = X/255.0"
   ]
  },
  {
   "cell_type": "markdown",
   "metadata": {},
   "source": [
    "# Create Sequential Model "
   ]
  },
  {
   "cell_type": "code",
   "execution_count": 24,
   "metadata": {},
   "outputs": [],
   "source": [
    "#create sequential model\n",
    "model = s()"
   ]
  },
  {
   "cell_type": "code",
   "execution_count": 25,
   "metadata": {},
   "outputs": [],
   "source": [
    "#one layer of convolution network\n",
    "model.add(Conv2D(256, (3, 3), input_shape=X.shape[1:]))\n",
    "model.add(Activation('relu'))\n",
    "model.add(MaxPooling2D(pool_size=(2,2)))"
   ]
  },
  {
   "cell_type": "code",
   "execution_count": 26,
   "metadata": {},
   "outputs": [],
   "source": [
    "#one more layer of convolution network\n",
    "model.add(Conv2D(64,(3,3)))\n",
    "model.add(Activation('relu'))\n",
    "model.add(MaxPooling2D(pool_size = (2,2)))"
   ]
  },
  {
   "cell_type": "code",
   "execution_count": 27,
   "metadata": {},
   "outputs": [],
   "source": [
    "#one layer of flatten and dense\n",
    "model.add(Flatten())\n",
    "model.add(Dense(64))"
   ]
  },
  {
   "cell_type": "code",
   "execution_count": 28,
   "metadata": {},
   "outputs": [],
   "source": [
    "#one layer of Dense with activation function sigmoid\n",
    "model.add(Dense(1))\n",
    "model.add(Activation('sigmoid'))"
   ]
  },
  {
   "cell_type": "code",
   "execution_count": 29,
   "metadata": {},
   "outputs": [],
   "source": [
    "#compiling the model\n",
    "model.compile(loss='binary_crossentropy',\n",
    "             optimizer='adam',metrics=[\"accuracy\"])"
   ]
  },
  {
   "cell_type": "markdown",
   "metadata": {},
   "source": [
    "# Training Model"
   ]
  },
  {
   "cell_type": "code",
   "execution_count": 31,
   "metadata": {},
   "outputs": [
    {
     "name": "stdout",
     "output_type": "stream",
     "text": [
      "Epoch 1/40\n",
      "41/41 [==============================] - 3s 69ms/sample - loss: 0.1181 - acc: 0.9268\n",
      "Epoch 2/40\n",
      "41/41 [==============================] - 3s 68ms/sample - loss: 0.0119 - acc: 1.0000\n",
      "Epoch 3/40\n",
      "41/41 [==============================] - 3s 76ms/sample - loss: 0.0358 - acc: 1.0000\n",
      "Epoch 4/40\n",
      "41/41 [==============================] - 3s 72ms/sample - loss: 0.0569 - acc: 1.0000\n",
      "Epoch 5/40\n",
      "41/41 [==============================] - 3s 68ms/sample - loss: 0.0108 - acc: 1.0000\n",
      "Epoch 6/40\n",
      "41/41 [==============================] - 3s 69ms/sample - loss: 0.0152 - acc: 1.0000\n",
      "Epoch 7/40\n",
      "41/41 [==============================] - 3s 69ms/sample - loss: 0.0241 - acc: 1.0000\n",
      "Epoch 8/40\n",
      "41/41 [==============================] - 3s 68ms/sample - loss: 0.0127 - acc: 1.0000\n",
      "Epoch 9/40\n",
      "41/41 [==============================] - 3s 68ms/sample - loss: 0.0044 - acc: 1.0000\n",
      "Epoch 10/40\n",
      "41/41 [==============================] - 3s 64ms/sample - loss: 0.0024 - acc: 1.0000\n",
      "Epoch 11/40\n",
      "41/41 [==============================] - 3s 65ms/sample - loss: 0.0031 - acc: 1.0000\n",
      "Epoch 12/40\n",
      "41/41 [==============================] - 3s 64ms/sample - loss: 0.0052 - acc: 1.0000\n",
      "Epoch 13/40\n",
      "41/41 [==============================] - 3s 71ms/sample - loss: 0.0049 - acc: 1.0000\n",
      "Epoch 14/40\n",
      "41/41 [==============================] - 3s 67ms/sample - loss: 0.0030 - acc: 1.0000\n",
      "Epoch 15/40\n",
      "41/41 [==============================] - 3s 71ms/sample - loss: 0.0017 - acc: 1.0000\n",
      "Epoch 16/40\n",
      "41/41 [==============================] - 3s 68ms/sample - loss: 0.0014 - acc: 1.0000\n",
      "Epoch 17/40\n",
      "41/41 [==============================] - 3s 72ms/sample - loss: 0.0012 - acc: 1.0000\n",
      "Epoch 18/40\n",
      "41/41 [==============================] - 3s 73ms/sample - loss: 0.0012 - acc: 1.0000\n",
      "Epoch 19/40\n",
      "41/41 [==============================] - 3s 70ms/sample - loss: 0.0013 - acc: 1.0000\n",
      "Epoch 20/40\n",
      "41/41 [==============================] - 4s 91ms/sample - loss: 0.0014 - acc: 1.0000\n",
      "Epoch 21/40\n",
      "41/41 [==============================] - 4s 88ms/sample - loss: 0.0013 - acc: 1.0000\n",
      "Epoch 22/40\n",
      "41/41 [==============================] - 5s 113ms/sample - loss: 0.0012 - acc: 1.0000\n",
      "Epoch 23/40\n",
      "41/41 [==============================] - 3s 76ms/sample - loss: 0.0010 - acc: 1.0000\n",
      "Epoch 24/40\n",
      "41/41 [==============================] - 3s 73ms/sample - loss: 8.7294e-04 - acc: 1.0000\n",
      "Epoch 25/40\n",
      "41/41 [==============================] - 3s 68ms/sample - loss: 7.7756e-04 - acc: 1.0000\n",
      "Epoch 26/40\n",
      "41/41 [==============================] - 3s 73ms/sample - loss: 7.1945e-04 - acc: 1.0000\n",
      "Epoch 27/40\n",
      "41/41 [==============================] - 3s 74ms/sample - loss: 7.1132e-04 - acc: 1.0000\n",
      "Epoch 28/40\n",
      "41/41 [==============================] - 3s 68ms/sample - loss: 7.1054e-04 - acc: 1.0000\n",
      "Epoch 29/40\n",
      "41/41 [==============================] - 3s 68ms/sample - loss: 7.0209e-04 - acc: 1.0000\n",
      "Epoch 30/40\n",
      "41/41 [==============================] - 3s 69ms/sample - loss: 6.9196e-04 - acc: 1.0000\n",
      "Epoch 31/40\n",
      "41/41 [==============================] - 3s 65ms/sample - loss: 6.7612e-04 - acc: 1.0000\n",
      "Epoch 32/40\n",
      "41/41 [==============================] - 3s 65ms/sample - loss: 6.5845e-04 - acc: 1.0000\n",
      "Epoch 33/40\n",
      "41/41 [==============================] - 3s 79ms/sample - loss: 6.3337e-04 - acc: 1.0000\n",
      "Epoch 34/40\n",
      "41/41 [==============================] - 3s 70ms/sample - loss: 6.1446e-04 - acc: 1.0000\n",
      "Epoch 35/40\n",
      "41/41 [==============================] - 3s 70ms/sample - loss: 5.9233e-04 - acc: 1.0000\n",
      "Epoch 36/40\n",
      "41/41 [==============================] - 3s 81ms/sample - loss: 5.7760e-04 - acc: 1.0000\n",
      "Epoch 37/40\n",
      "41/41 [==============================] - 3s 73ms/sample - loss: 5.5876e-04 - acc: 1.0000\n",
      "Epoch 38/40\n",
      "41/41 [==============================] - 3s 72ms/sample - loss: 5.4632e-04 - acc: 1.0000\n",
      "Epoch 39/40\n",
      "41/41 [==============================] - 3s 70ms/sample - loss: 5.3316e-04 - acc: 1.0000\n",
      "Epoch 40/40\n",
      "41/41 [==============================] - 3s 73ms/sample - loss: 5.2099e-04 - acc: 1.0000\n"
     ]
    },
    {
     "data": {
      "text/plain": [
       "<tensorflow.python.keras.callbacks.History at 0x12f22fba8>"
      ]
     },
     "execution_count": 31,
     "metadata": {},
     "output_type": "execute_result"
    }
   ],
   "source": [
    "#fitting the model\n",
    "model.fit(X,y,epochs=40,batch_size=32)"
   ]
  },
  {
   "cell_type": "markdown",
   "metadata": {},
   "source": [
    " # Testing Model"
   ]
  },
  {
   "cell_type": "code",
   "execution_count": 36,
   "metadata": {},
   "outputs": [
    {
     "name": "stdout",
     "output_type": "stream",
     "text": [
      "4/4 [==============================] - 0s 39ms/sample - loss: 4.8038e-04 - acc: 1.0000\n",
      "test loss, test acc: [0.00048037568922154605, 1.0]\n"
     ]
    }
   ],
   "source": [
    "# Evaluating the model with the input evaluate function \n",
    "results = model.evaluate(x_test, y_test, batch_size=128)\n",
    "#printing the results like Loss and Accuracy\n",
    "print('test loss, test acc:', results)"
   ]
  }
 ],
 "metadata": {
  "kernelspec": {
   "display_name": "Python 3",
   "language": "python",
   "name": "python3"
  },
  "language_info": {
   "codemirror_mode": {
    "name": "ipython",
    "version": 3
   },
   "file_extension": ".py",
   "mimetype": "text/x-python",
   "name": "python",
   "nbconvert_exporter": "python",
   "pygments_lexer": "ipython3",
   "version": "3.6.4"
  }
 },
 "nbformat": 4,
 "nbformat_minor": 2
}
